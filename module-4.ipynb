{
 "cells": [
  {
   "cell_type": "code",
   "execution_count": 2,
   "id": "58c5d776",
   "metadata": {},
   "outputs": [],
   "source": [
    "#ans=1\n",
    "#FILE function is used to perform actions on file.To create file:\n",
    "#open('filepath/name.txt','x') and to write file:\n",
    "#open('filepath/name.txt','w')==> write()\n",
    "        "
   ]
  },
  {
   "cell_type": "code",
   "execution_count": 8,
   "id": "9f177581",
   "metadata": {},
   "outputs": [
    {
     "ename": "FileExistsError",
     "evalue": "[Errno 17] File exists: 'python101.txt'",
     "output_type": "error",
     "traceback": [
      "\u001b[1;31m---------------------------------------------------------------------------\u001b[0m",
      "\u001b[1;31mFileExistsError\u001b[0m                           Traceback (most recent call last)",
      "\u001b[1;32m~\\AppData\\Local\\Temp\\ipykernel_5608\\120306028.py\u001b[0m in \u001b[0;36m<module>\u001b[1;34m\u001b[0m\n\u001b[1;32m----> 1\u001b[1;33m \u001b[0mf3\u001b[0m \u001b[1;33m=\u001b[0m \u001b[0mopen\u001b[0m\u001b[1;33m(\u001b[0m\u001b[1;34m'python101.txt'\u001b[0m\u001b[1;33m,\u001b[0m\u001b[1;34m'x'\u001b[0m\u001b[1;33m)\u001b[0m\u001b[1;33m\u001b[0m\u001b[1;33m\u001b[0m\u001b[0m\n\u001b[0m\u001b[0;32m      2\u001b[0m \u001b[0mf3\u001b[0m \u001b[1;33m=\u001b[0m \u001b[0mopen\u001b[0m \u001b[1;33m(\u001b[0m\u001b[1;34m'python101.txt'\u001b[0m\u001b[1;33m,\u001b[0m\u001b[1;34m'w'\u001b[0m\u001b[1;33m)\u001b[0m\u001b[1;33m\u001b[0m\u001b[1;33m\u001b[0m\u001b[0m\n\u001b[0;32m      3\u001b[0m \u001b[0mf3\u001b[0m\u001b[1;33m.\u001b[0m\u001b[0mwrite\u001b[0m\u001b[1;33m(\u001b[0m\u001b[1;34m'thise is python assignment module 4'\u001b[0m\u001b[1;33m)\u001b[0m\u001b[1;33m\u001b[0m\u001b[1;33m\u001b[0m\u001b[0m\n\u001b[0;32m      4\u001b[0m \u001b[0mf3\u001b[0m\u001b[1;33m.\u001b[0m\u001b[0mclose\u001b[0m\u001b[1;33m(\u001b[0m\u001b[1;33m)\u001b[0m\u001b[1;33m\u001b[0m\u001b[1;33m\u001b[0m\u001b[0m\n",
      "\u001b[1;31mFileExistsError\u001b[0m: [Errno 17] File exists: 'python101.txt'"
     ]
    }
   ],
   "source": [
    "f3 = open('python101.txt','x')\n",
    "f3 = open ('python101.txt','w')\n",
    "f3.write('thise is python assignment module 4')\n",
    "f3.close()"
   ]
  },
  {
   "cell_type": "code",
   "execution_count": 9,
   "id": "28c035ca",
   "metadata": {},
   "outputs": [
    {
     "name": "stdout",
     "output_type": "stream",
     "text": [
      "thise is python assignment module 4\n"
     ]
    }
   ],
   "source": [
    "#ans=2\n",
    "file_read=open('python101.txt','r')\n",
    "print(file_read.read())\n",
    "file_read.close()"
   ]
  },
  {
   "cell_type": "code",
   "execution_count": 11,
   "id": "cb507a38",
   "metadata": {},
   "outputs": [
    {
     "name": "stdout",
     "output_type": "stream",
     "text": [
      "thise is python assignment module 4\n",
      " This is  second line\n",
      " This is second line\n"
     ]
    }
   ],
   "source": [
    "#ans=3\n",
    "f3= open('python101.txt','a')\n",
    "f3.write('\\n This is second line')\n",
    "f3.close()\n",
    "f4= open('python101.txt','r')\n",
    "print(f4.read())\n",
    "f4.close()"
   ]
  },
  {
   "cell_type": "code",
   "execution_count": 12,
   "id": "5e54b6f9",
   "metadata": {},
   "outputs": [
    {
     "ename": "OSError",
     "evalue": "[Errno 22] Invalid argument: '/C:/Users/PREET MODI/Documents/preet python/python101.txt'",
     "output_type": "error",
     "traceback": [
      "\u001b[1;31m---------------------------------------------------------------------------\u001b[0m",
      "\u001b[1;31mOSError\u001b[0m                                   Traceback (most recent call last)",
      "\u001b[1;32m~\\AppData\\Local\\Temp\\ipykernel_5608\\4004929851.py\u001b[0m in \u001b[0;36m<module>\u001b[1;34m\u001b[0m\n\u001b[1;32m----> 1\u001b[1;33m \u001b[0mf3\u001b[0m \u001b[1;33m=\u001b[0m \u001b[0mopen\u001b[0m\u001b[1;33m(\u001b[0m\u001b[1;34mr'/C:/Users/PREET MODI/Documents/preet python/python101.txt'\u001b[0m\u001b[1;33m,\u001b[0m\u001b[1;34m'w'\u001b[0m\u001b[1;33m)\u001b[0m\u001b[1;33m\u001b[0m\u001b[1;33m\u001b[0m\u001b[0m\n\u001b[0m\u001b[0;32m      2\u001b[0m \u001b[0mf3\u001b[0m\u001b[1;33m.\u001b[0m\u001b[0mwrite\u001b[0m\u001b[1;33m(\u001b[0m\u001b[1;34m'this is book/nthis is GK book'\u001b[0m\u001b[1;33m)\u001b[0m\u001b[1;33m\u001b[0m\u001b[1;33m\u001b[0m\u001b[0m\n\u001b[0;32m      3\u001b[0m \u001b[0mf3\u001b[0m\u001b[1;33m.\u001b[0m\u001b[0mclose\u001b[0m\u001b[1;33m(\u001b[0m\u001b[1;33m)\u001b[0m\u001b[1;33m\u001b[0m\u001b[1;33m\u001b[0m\u001b[0m\n\u001b[0;32m      4\u001b[0m \u001b[0mf3\u001b[0m\u001b[1;33m=\u001b[0m\u001b[0mopen\u001b[0m\u001b[1;33m(\u001b[0m\u001b[1;34mr'/C:/Users/PREET MODI/Documents/preet python/python101.txt'\u001b[0m\u001b[1;33m,\u001b[0m\u001b[1;34m'w'\u001b[0m\u001b[1;33m)\u001b[0m\u001b[1;33m\u001b[0m\u001b[1;33m\u001b[0m\u001b[0m\n\u001b[0;32m      5\u001b[0m \u001b[0mf3\u001b[0m\u001b[1;33m.\u001b[0m\u001b[0mreadline\u001b[0m\u001b[1;33m(\u001b[0m\u001b[1;33m)\u001b[0m\u001b[1;33m\u001b[0m\u001b[1;33m\u001b[0m\u001b[0m\n",
      "\u001b[1;31mOSError\u001b[0m: [Errno 22] Invalid argument: '/C:/Users/PREET MODI/Documents/preet python/python101.txt'"
     ]
    }
   ],
   "source": [
    "#ans=5\n",
    "f3 = open(r'/C:/Users/PREET MODI/Documents/preet python/python101.txt','w')\n",
    "f3.write('this is book/nthis is GK book') \n",
    "f3.close()\n",
    "f3=open(r'/C:/Users/PREET MODI/Documents/preet python/python101.txt','w')\n",
    "f3.readline() \n",
    "f3.close()"
   ]
  },
  {
   "cell_type": "code",
   "execution_count": 14,
   "id": "6e8ca854",
   "metadata": {},
   "outputs": [
    {
     "name": "stdout",
     "output_type": "stream",
     "text": [
      "1\n"
     ]
    },
    {
     "ename": "NameError",
     "evalue": "name 'n' is not defined",
     "output_type": "error",
     "traceback": [
      "\u001b[1;31m---------------------------------------------------------------------------\u001b[0m",
      "\u001b[1;31mNameError\u001b[0m                                 Traceback (most recent call last)",
      "\u001b[1;32m~\\AppData\\Local\\Temp\\ipykernel_5608\\1323309249.py\u001b[0m in \u001b[0;36m<module>\u001b[1;34m\u001b[0m\n\u001b[0;32m      3\u001b[0m \u001b[0mx\u001b[0m \u001b[1;33m=\u001b[0m \u001b[0mf_21\u001b[0m\u001b[1;33m.\u001b[0m\u001b[0mreadline\u001b[0m\u001b[1;33m(\u001b[0m\u001b[1;33m)\u001b[0m\u001b[1;33m\u001b[0m\u001b[1;33m\u001b[0m\u001b[0m\n\u001b[0;32m      4\u001b[0m \u001b[0ml\u001b[0m \u001b[1;33m=\u001b[0m \u001b[0mlen\u001b[0m\u001b[1;33m(\u001b[0m\u001b[0mx\u001b[0m\u001b[1;33m)\u001b[0m\u001b[1;33m\u001b[0m\u001b[1;33m\u001b[0m\u001b[0m\n\u001b[1;32m----> 5\u001b[1;33m \u001b[0my\u001b[0m \u001b[1;33m=\u001b[0m \u001b[0mx\u001b[0m\u001b[1;33m[\u001b[0m\u001b[1;33m(\u001b[0m\u001b[0ml\u001b[0m\u001b[1;33m-\u001b[0m\u001b[0mn\u001b[0m\u001b[1;33m)\u001b[0m\u001b[1;33m:\u001b[0m\u001b[1;33m]\u001b[0m\u001b[1;33m\u001b[0m\u001b[1;33m\u001b[0m\u001b[0m\n\u001b[0m\u001b[0;32m      6\u001b[0m \u001b[1;32mfor\u001b[0m \u001b[0mi\u001b[0m \u001b[1;32min\u001b[0m \u001b[0my\u001b[0m\u001b[1;33m:\u001b[0m\u001b[1;33m\u001b[0m\u001b[1;33m\u001b[0m\u001b[0m\n\u001b[0;32m      7\u001b[0m     \u001b[0mprint\u001b[0m\u001b[1;33m(\u001b[0m\u001b[0mi\u001b[0m\u001b[1;33m)\u001b[0m\u001b[1;33m\u001b[0m\u001b[1;33m\u001b[0m\u001b[0m\n",
      "\u001b[1;31mNameError\u001b[0m: name 'n' is not defined"
     ]
    }
   ],
   "source": [
    "#ans=6\n",
    "num = int(input())\n",
    "f_21 = open('python101.txt','r')\n",
    "x = f_21.readline()\n",
    "l = len(x)\n",
    "y = x[(l-n):]\n",
    "for i in y:\n",
    "    print(i)\n",
    "f_21.close()"
   ]
  },
  {
   "cell_type": "code",
   "execution_count": 15,
   "id": "8acfd56c",
   "metadata": {},
   "outputs": [
    {
     "name": "stdout",
     "output_type": "stream",
     "text": [
      "['thise is python assignment module 4\\n', ' This is  second line\\n', ' This is second line']\n"
     ]
    }
   ],
   "source": [
    "#ans=7\n",
    "f4 = open('python101.txt','r')\n",
    "lis=f4.readlines()\n",
    "f4.close()\n",
    "print(lis)"
   ]
  },
  {
   "cell_type": "code",
   "execution_count": 20,
   "id": "3a181019",
   "metadata": {},
   "outputs": [
    {
     "name": "stdout",
     "output_type": "stream",
     "text": [
      "['thise is python assignment module 4\\n', ' This is  second line\\n', ' This is second line']\n"
     ]
    }
   ],
   "source": [
    "#ans=8\n",
    "file = open('python101.txt','r')\n",
    "var1 = file.readlines()\n",
    "file.close()\n",
    "print(var1)"
   ]
  },
  {
   "cell_type": "code",
   "execution_count": 21,
   "id": "125c1813",
   "metadata": {},
   "outputs": [
    {
     "name": "stdout",
     "output_type": "stream",
     "text": [
      "3 lines in file\n"
     ]
    }
   ],
   "source": [
    "#ans=10\n",
    "filed = open('python101.txt','r')\n",
    "x= filed.readlines()\n",
    "filed.close()\n",
    "print(len(x),'lines in file')"
   ]
  },
  {
   "cell_type": "code",
   "execution_count": 24,
   "id": "75715e4f",
   "metadata": {},
   "outputs": [
    {
     "name": "stdout",
     "output_type": "stream",
     "text": [
      "thise 1\n",
      "is 3\n",
      "python 1\n",
      "assignment 1\n",
      "module 1\n",
      "4 1\n",
      "This 2\n",
      "is 3\n",
      "second 2\n",
      "line 2\n",
      "This 2\n",
      "is 3\n",
      "second 2\n",
      "line 2\n"
     ]
    }
   ],
   "source": [
    "#ans=11\n",
    "file = open('python101.txt','r')\n",
    "lin2 = file.readlines()\n",
    "list1 = []\n",
    "for i in lin2:\n",
    "    x = i.split()\n",
    "    for y in x:\n",
    "        list1.append(y)\n",
    "for k in list1:\n",
    "    print(k, list1.count(k))\n",
    "file.close()"
   ]
  },
  {
   "cell_type": "code",
   "execution_count": 29,
   "id": "9a12dc71",
   "metadata": {},
   "outputs": [],
   "source": [
    "#ans-12\n",
    "l1=['preet modi','nav']\n",
    "file = open('top.txt','w')\n",
    "for i in l1:\n",
    "    file.writelines(i+'\\n')\n",
    "file.close()"
   ]
  },
  {
   "cell_type": "code",
   "execution_count": 31,
   "id": "17675aaa",
   "metadata": {},
   "outputs": [],
   "source": [
    "#ans-13\n",
    "file101 = open(r'top.txt','r') \n",
    "f_content = file101.readlines()\n",
    "file101.close()\n",
    "file201 = open('top.txt','w') \n",
    "file201.writelines(f_content) \n",
    "file201.close()\n"
   ]
  },
  {
   "cell_type": "code",
   "execution_count": 36,
   "id": "10b7f191",
   "metadata": {},
   "outputs": [
    {
     "data": {
      "text/plain": [
       "'\"\"exception handling is a proceess of handling unexpexted errors,\\nwithout stopping the programming execution. error are programs that occur in the program due to an \\nilleagal operation performed by the user or bby the faullt of a programming, which halts the normal \\nflow of the program.'"
      ]
     },
     "execution_count": 36,
     "metadata": {},
     "output_type": "execute_result"
    }
   ],
   "source": [
    "#ans-14\n",
    "\"\"\"\"\"exception handling is a proceess of handling unexpexted errors,\n",
    "without stopping the programming execution. error are programs that occur in the program due to an \n",
    "illeagal operation performed by the user or bby the faullt of a programming, which halts the normal \n",
    "flow of the program.\"\"\"\"\""
   ]
  },
  {
   "cell_type": "code",
   "execution_count": 33,
   "id": "d2ad8d23",
   "metadata": {},
   "outputs": [],
   "source": [
    "#ans-15\n",
    "#else part executes only after try block executes succesfully."
   ]
  },
  {
   "cell_type": "code",
   "execution_count": 37,
   "id": "6c93c4f5",
   "metadata": {},
   "outputs": [],
   "source": [
    "#ans-16\n",
    "#one block of except statement can handle one exception per block.to use  multiple handing we can use \n",
    "#nested  try-catch block"
   ]
  },
  {
   "cell_type": "code",
   "execution_count": 38,
   "id": "2d10bc6e",
   "metadata": {},
   "outputs": [],
   "source": [
    "#ans-17\n",
    "#finally block is executed after try or exception block"
   ]
  },
  {
   "cell_type": "code",
   "execution_count": 39,
   "id": "8acd0d3b",
   "metadata": {},
   "outputs": [],
   "source": [
    "#ans-18\n",
    "#'1'==1 will check the value of both sides and if value is equal will return True else False"
   ]
  },
  {
   "cell_type": "code",
   "execution_count": 43,
   "id": "94412db3",
   "metadata": {},
   "outputs": [
    {
     "name": "stdout",
     "output_type": "stream",
     "text": [
      "3\n"
     ]
    }
   ],
   "source": [
    "#ans-20\n",
    "class OddEvenError(Exception):\n",
    "    pass\n",
    "num = int(input())\n",
    "if num%2==0:\n",
    "    raise OddEvenError('please Enter odd number')"
   ]
  },
  {
   "cell_type": "code",
   "execution_count": null,
   "id": "1ce3c086",
   "metadata": {},
   "outputs": [],
   "source": [
    "#ans-21\n",
    "concepts of object-oriented programming (oops)\n",
    "class and objects\n",
    "Inheritance \n",
    "Olymorphism\n",
    "Encapsulation\n",
    "Data abstraction\n",
    "yes inheritance does support in java"
   ]
  },
  {
   "cell_type": "code",
   "execution_count": null,
   "id": "01af84de",
   "metadata": {},
   "outputs": [],
   "source": [
    "#ans-22\n",
    "A class is  like an object constructor,or a \"blueprint\" for creating objects.self is the parameter \n",
    "in  function that points the instance of that class"
   ]
  },
  {
   "cell_type": "code",
   "execution_count": 45,
   "id": "50ee9192",
   "metadata": {},
   "outputs": [],
   "source": [
    "#ans-23\n",
    "class Example:\n",
    "    def __init__(self,a):\n",
    "        self.a = a\n",
    "ex = Example('preet')"
   ]
  },
  {
   "cell_type": "code",
   "execution_count": 49,
   "id": "8eb08305",
   "metadata": {},
   "outputs": [],
   "source": [
    "#ans-24\n",
    "class rectangle:\n",
    "    def __init__ (self,l,w):\n",
    "        self.length = l\n",
    "        self.width = w\n",
    "    def area(self):\n",
    "        return (self.length * self.width)"
   ]
  },
  {
   "cell_type": "code",
   "execution_count": 53,
   "id": "fa8288e6",
   "metadata": {},
   "outputs": [
    {
     "ename": "NameError",
     "evalue": "name 'Rectangle' is not defined",
     "output_type": "error",
     "traceback": [
      "\u001b[1;31m---------------------------------------------------------------------------\u001b[0m",
      "\u001b[1;31mNameError\u001b[0m                                 Traceback (most recent call last)",
      "\u001b[1;32m~\\AppData\\Local\\Temp\\ipykernel_5608\\1977830424.py\u001b[0m in \u001b[0;36m<module>\u001b[1;34m\u001b[0m\n\u001b[0;32m      1\u001b[0m \u001b[1;31m#ans-25\u001b[0m\u001b[1;33m\u001b[0m\u001b[1;33m\u001b[0m\u001b[0m\n\u001b[1;32m----> 2\u001b[1;33m \u001b[0mR1\u001b[0m \u001b[1;33m=\u001b[0m \u001b[0mRectangle\u001b[0m\u001b[1;33m(\u001b[0m\u001b[1;36m23\u001b[0m\u001b[1;33m,\u001b[0m\u001b[1;36m24\u001b[0m\u001b[1;33m)\u001b[0m\u001b[1;33m\u001b[0m\u001b[1;33m\u001b[0m\u001b[0m\n\u001b[0m\u001b[0;32m      3\u001b[0m \u001b[0mR1\u001b[0m\u001b[1;33m.\u001b[0m\u001b[0marea\u001b[0m\u001b[1;33m(\u001b[0m\u001b[1;33m)\u001b[0m\u001b[1;33m\u001b[0m\u001b[1;33m\u001b[0m\u001b[0m\n",
      "\u001b[1;31mNameError\u001b[0m: name 'Rectangle' is not defined"
     ]
    }
   ],
   "source": [
    "#ans-25\n",
    "R1 = Rectangle(23,24)\n",
    "R1.area()"
   ]
  },
  {
   "cell_type": "code",
   "execution_count": null,
   "id": "4539a9e1",
   "metadata": {},
   "outputs": [],
   "source": []
  }
 ],
 "metadata": {
  "kernelspec": {
   "display_name": "Python 3 (ipykernel)",
   "language": "python",
   "name": "python3"
  },
  "language_info": {
   "codemirror_mode": {
    "name": "ipython",
    "version": 3
   },
   "file_extension": ".py",
   "mimetype": "text/x-python",
   "name": "python",
   "nbconvert_exporter": "python",
   "pygments_lexer": "ipython3",
   "version": "3.9.13"
  }
 },
 "nbformat": 4,
 "nbformat_minor": 5
}
