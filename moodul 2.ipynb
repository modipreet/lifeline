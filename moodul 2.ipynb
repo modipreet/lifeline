{
 "cells": [
  {
   "cell_type": "markdown",
   "id": "1e4558f2",
   "metadata": {},
   "source": [
    "# Write a python program to check if a number is positive,negative to zero"
   ]
  },
  {
   "cell_type": "code",
   "execution_count": null,
   "id": "70dde9d1",
   "metadata": {},
   "outputs": [],
   "source": [
    "num=int(input())\n",
    "if num<=0:\n",
    "    if num == 0:\n",
    "        print('neutral')\n",
    "    elif num<0:\n",
    "        print('negative')\n",
    "else:\n",
    "    print('positive')\n",
    "    "
   ]
  },
  {
   "cell_type": "code",
   "execution_count": 3,
   "id": "164d46d0",
   "metadata": {},
   "outputs": [
    {
     "name": "stdout",
     "output_type": "stream",
     "text": [
      "7\n",
      "5040\n"
     ]
    }
   ],
   "source": [
    "# ANS 2\n",
    "boni1 = int(input())\n",
    "boni2 = 1\n",
    "for i in range(boni1,1,-1):\n",
    "    boni2*=i\n",
    "print(boni2)"
   ]
  },
  {
   "cell_type": "code",
   "execution_count": 6,
   "id": "543c2197",
   "metadata": {},
   "outputs": [
    {
     "name": "stdout",
     "output_type": "stream",
     "text": [
      "6\n",
      "0 1 1 2 3 5 "
     ]
    }
   ],
   "source": [
    "# ANS 3\n",
    "num = int(input())\n",
    "a1 = 0\n",
    "b2 = 1\n",
    "for i in range(num):\n",
    "    print(a1,end=' ')\n",
    "    a1,b2=b2,a1+b2"
   ]
  },
  {
   "cell_type": "code",
   "execution_count": null,
   "id": "f6a3454a",
   "metadata": {},
   "outputs": [],
   "source": [
    "#ans-4\n",
    "# MEMIORY IN PYTHON IS  MANAGED DYNAMICALLY WITH PRIVATE HEAP SPACE"
   ]
  },
  {
   "cell_type": "code",
   "execution_count": null,
   "id": "a1908117",
   "metadata": {},
   "outputs": [],
   "source": [
    "# ANS 5\n",
    "#continue statement is a part of control statement cotinue keyword ends the current iteration \n",
    "          #and starts the new iteration in loops"
   ]
  },
  {
   "cell_type": "markdown",
   "id": "dfdac71d",
   "metadata": {},
   "source": [
    "# Write python program that swap two number with temp variable temp variable"
   ]
  },
  {
   "cell_type": "code",
   "execution_count": null,
   "id": "5517eb51",
   "metadata": {},
   "outputs": [],
   "source": [
    "var2 = int(input())\n",
    "var1,var2=var2,var1\n",
    "print('var1',var1)\n",
    "print('var2',var2)"
   ]
  },
  {
   "cell_type": "code",
   "execution_count": 2,
   "id": "0b44fb54",
   "metadata": {},
   "outputs": [
    {
     "name": "stdout",
     "output_type": "stream",
     "text": [
      "8\n",
      "even num\n"
     ]
    }
   ],
   "source": [
    "a = int(input())\n",
    "if a % 2 == 0:\n",
    "    print('even num')# a = a % 2 a = 22 % 2 0.44 == 0\n",
    "else:\n",
    "    print('odd num')"
   ]
  },
  {
   "cell_type": "code",
   "execution_count": 5,
   "id": "20321e9b",
   "metadata": {},
   "outputs": [
    {
     "name": "stdout",
     "output_type": "stream",
     "text": [
      "a\n",
      "vowel\n"
     ]
    }
   ],
   "source": [
    "b = (input())\n",
    "if (b=='a'or b=='e'or b=='i'or b=='o'or b=='u'):\n",
    "    print('vowel')\n",
    "else:\n",
    "    print('not vowel')"
   ]
  },
  {
   "cell_type": "code",
   "execution_count": 6,
   "id": "c077de79",
   "metadata": {},
   "outputs": [],
   "source": [
    "# ANS 9\n",
    "a = int(input())\n",
    "b = int(input())\n",
    "c = int(input())\n",
    "if a==b or  b==c or c==a:\n",
    "    sum = 0\n",
    "else:\n",
    "    sum = a+b+c\n",
    "print('sum of the number',sum)"
   ]
  },
  {
   "cell_type": "code",
   "execution_count": 8,
   "id": "e4f47218",
   "metadata": {},
   "outputs": [
    {
     "name": "stdout",
     "output_type": "stream",
     "text": [
      "20\n",
      "40\n",
      "false\n"
     ]
    }
   ],
   "source": [
    "# ANS 10\n",
    "var1 = int(input())\n",
    "var2 = int(input())\n",
    "a = var1+var2\n",
    "b = var1-var2\n",
    "if (var1 == var2 or a==30 or b==50):\n",
    "    print('true')\n",
    "else:\n",
    "    print('false')"
   ]
  },
  {
   "cell_type": "code",
   "execution_count": 12,
   "id": "9c8f195e",
   "metadata": {},
   "outputs": [
    {
     "name": "stdout",
     "output_type": "stream",
     "text": [
      "preet modi\n",
      "10\n"
     ]
    }
   ],
   "source": [
    "# ANS 11\n",
    "string = input()\n",
    "print(len(string))\n"
   ]
  },
  {
   "cell_type": "code",
   "execution_count": 1,
   "id": "ed1b3efc",
   "metadata": {},
   "outputs": [
    {
     "name": "stdout",
     "output_type": "stream",
     "text": [
      "preet\n",
      "5\n"
     ]
    }
   ],
   "source": [
    "# ANS 12\n",
    "a=input()\n",
    "b=len(a)\n",
    "print(b)"
   ]
  },
  {
   "cell_type": "code",
   "execution_count": 15,
   "id": "fc767e3b",
   "metadata": {},
   "outputs": [
    {
     "name": "stdout",
     "output_type": "stream",
     "text": [
      "1\n"
     ]
    }
   ],
   "source": [
    "# ANS 13\n",
    "c= \"frequency\"\n",
    "d=c.count('r')\n",
    "print(d)\n"
   ]
  },
  {
   "cell_type": "code",
   "execution_count": 10,
   "id": "2154f8d7",
   "metadata": {},
   "outputs": [],
   "source": [
    "# ANS 14\n",
    "# NAGATIVE INDEX: NAGATIVE INDEX MEANS BEGINNING FROM THE END ,-1 REFERS TO THE LAST CHARACTER , \n",
    "                  #-2 REFERS TO THE SECOND LAST CHARACTER."
   ]
  },
  {
   "cell_type": "code",
   "execution_count": 1,
   "id": "9c5835ee",
   "metadata": {},
   "outputs": [
    {
     "name": "stdout",
     "output_type": "stream",
     "text": [
      "2\n"
     ]
    }
   ],
   "source": [
    "# ANS 15\n",
    "var1=\"this is a book\"\n",
    "var2=var1.count(\"o\")\n",
    "print(var2)"
   ]
  },
  {
   "cell_type": "code",
   "execution_count": 16,
   "id": "b98a1ccc",
   "metadata": {},
   "outputs": [
    {
     "name": "stdout",
     "output_type": "stream",
     "text": [
      "1\n"
     ]
    }
   ],
   "source": [
    "# ANS 16\n",
    "a=\"this is a pen\"\n",
    "b=a.count('pen')\n",
    "print(b)"
   ]
  },
  {
   "cell_type": "code",
   "execution_count": 29,
   "id": "3e505d41",
   "metadata": {},
   "outputs": [
    {
     "name": "stdout",
     "output_type": "stream",
     "text": [
      "daalytics\n",
      "anta\n",
      "anta daalytics\n"
     ]
    }
   ],
   "source": [
    "# ANS 17\n",
    "var1=\"data\"\n",
    "var2=\"analytics\"\n",
    "first=var1[0:2] + var2[2:]\n",
    "print(first)\n",
    "second=var2[0:2] + var1[2:]\n",
    "print(second)\n",
    "third=second + \" \" + first\n",
    "print(third)\n"
   ]
  },
  {
   "cell_type": "code",
   "execution_count": null,
   "id": "0acf10e3",
   "metadata": {},
   "outputs": [],
   "source": [
    "# ANS 18\n",
    "b = input()\n",
    "if len(b) >=3:\n",
    "    if a.endswith('ing'):\n",
    "        print(b.replace('ing','jy'))\n",
    "    else:\n",
    "        print(b + 'ing')\n",
    "else:\n",
    "    print(b)\n",
    "    "
   ]
  },
  {
   "cell_type": "code",
   "execution_count": 34,
   "id": "b0fa4398",
   "metadata": {},
   "outputs": [
    {
     "name": "stdout",
     "output_type": "stream",
     "text": [
      "8\n",
      "14\n",
      "this is good guy\n"
     ]
    }
   ],
   "source": [
    "# ANS 19\n",
    "c=\"this is not a poor guy\"\n",
    "p=c.find(\"not\")\n",
    "print(p)\n",
    "z=c.find(\"poor\")\n",
    "print(z)\n",
    "if z-p==6:\n",
    "    print(c.replace(\"not a poor\",\"good\"))\n",
    "else:\n",
    "    print(c)"
   ]
  },
  {
   "cell_type": "code",
   "execution_count": 21,
   "id": "5b8c8e79",
   "metadata": {},
   "outputs": [],
   "source": [
    "# ANS 20\n"
   ]
  },
  {
   "cell_type": "code",
   "execution_count": 22,
   "id": "db4d8fc4",
   "metadata": {},
   "outputs": [],
   "source": [
    "# ANS 21"
   ]
  },
  {
   "cell_type": "code",
   "execution_count": 23,
   "id": "47085dad",
   "metadata": {},
   "outputs": [],
   "source": [
    "# ANS 22"
   ]
  },
  {
   "cell_type": "code",
   "execution_count": null,
   "id": "2ea7beef",
   "metadata": {},
   "outputs": [],
   "source": [
    "# ANS 23"
   ]
  }
 ],
 "metadata": {
  "kernelspec": {
   "display_name": "Python 3 (ipykernel)",
   "language": "python",
   "name": "python3"
  },
  "language_info": {
   "codemirror_mode": {
    "name": "ipython",
    "version": 3
   },
   "file_extension": ".py",
   "mimetype": "text/x-python",
   "name": "python",
   "nbconvert_exporter": "python",
   "pygments_lexer": "ipython3",
   "version": "3.9.13"
  }
 },
 "nbformat": 4,
 "nbformat_minor": 5
}
