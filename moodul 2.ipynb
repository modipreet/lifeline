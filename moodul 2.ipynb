{
 "cells": [
  {
   "cell_type": "markdown",
   "id": "1e4558f2",
   "metadata": {},
   "source": [
    "# Write a python program to check if a number is positive,negative to zero"
   ]
  },
  {
   "cell_type": "code",
   "execution_count": null,
   "id": "70dde9d1",
   "metadata": {},
   "outputs": [],
   "source": [
    "num=int(input())\n",
    "if num<=0:\n",
    "    if num == 0:\n",
    "        print('neutral')\n",
    "    elif num<0:\n",
    "        print('negative')\n",
    "else:\n",
    "    print('positive')\n",
    "    "
   ]
  },
  {
   "cell_type": "code",
   "execution_count": null,
   "id": "164d46d0",
   "metadata": {},
   "outputs": [],
   "source": [
    "# ANS 2"
   ]
  },
  {
   "cell_type": "code",
   "execution_count": null,
   "id": "543c2197",
   "metadata": {},
   "outputs": [],
   "source": [
    "# ANS 3"
   ]
  },
  {
   "cell_type": "code",
   "execution_count": null,
   "id": "f6a3454a",
   "metadata": {},
   "outputs": [],
   "source": [
    "# MEMIORY IN PYTHON IS  MANAGED DYNAMICALLY WITH PRIVATE HEAP SPACE"
   ]
  },
  {
   "cell_type": "code",
   "execution_count": null,
   "id": "a1908117",
   "metadata": {},
   "outputs": [],
   "source": [
    "# ANS 5"
   ]
  },
  {
   "cell_type": "markdown",
   "id": "dfdac71d",
   "metadata": {},
   "source": [
    "# Write python program that swap two number with temp variable temp variable"
   ]
  },
  {
   "cell_type": "code",
   "execution_count": null,
   "id": "5517eb51",
   "metadata": {},
   "outputs": [],
   "source": [
    "var2 = int(input())\n",
    "var1,var2=var2,var1\n",
    "print('var1',var1)\n",
    "print('var2',var2)"
   ]
  },
  {
   "cell_type": "code",
   "execution_count": 2,
   "id": "0b44fb54",
   "metadata": {},
   "outputs": [
    {
     "name": "stdout",
     "output_type": "stream",
     "text": [
      "8\n",
      "even num\n"
     ]
    }
   ],
   "source": [
    "a = int(input())\n",
    "if a % 2 == 0:\n",
    "    print('even num')# a = a % 2 a = 22 % 2 0.44 == 0\n",
    "else:\n",
    "    print('odd num')"
   ]
  },
  {
   "cell_type": "code",
   "execution_count": 5,
   "id": "20321e9b",
   "metadata": {},
   "outputs": [
    {
     "name": "stdout",
     "output_type": "stream",
     "text": [
      "a\n",
      "vowel\n"
     ]
    }
   ],
   "source": [
    "b = (input())\n",
    "if (b=='a'or b=='e'or b=='i'or b=='o'or b=='u'):\n",
    "    print('vowel')\n",
    "else:\n",
    "    print('not vowel')"
   ]
  },
  {
   "cell_type": "code",
   "execution_count": 6,
   "id": "c077de79",
   "metadata": {},
   "outputs": [],
   "source": [
    "# ANS 9"
   ]
  },
  {
   "cell_type": "code",
   "execution_count": 8,
   "id": "e4f47218",
   "metadata": {},
   "outputs": [
    {
     "name": "stdout",
     "output_type": "stream",
     "text": [
      "20\n",
      "40\n",
      "false\n"
     ]
    }
   ],
   "source": [
    "# ANS 10\n",
    "var1 = int(input())\n",
    "var2 = int(input())\n",
    "a = var1+var2\n",
    "b = var1-var2\n",
    "if (var1 == var2 or a==30 or b==50):\n",
    "    print('true')\n",
    "else:\n",
    "    print('false')"
   ]
  },
  {
   "cell_type": "code",
   "execution_count": 12,
   "id": "9c8f195e",
   "metadata": {},
   "outputs": [
    {
     "name": "stdout",
     "output_type": "stream",
     "text": [
      "preet modi\n",
      "10\n"
     ]
    }
   ],
   "source": [
    "# ANS 11\n",
    "string = input()\n",
    "print(len(string))\n"
   ]
  },
  {
   "cell_type": "code",
   "execution_count": 13,
   "id": "ed1b3efc",
   "metadata": {},
   "outputs": [],
   "source": [
    "# ANS 12"
   ]
  },
  {
   "cell_type": "code",
   "execution_count": 14,
   "id": "fc767e3b",
   "metadata": {},
   "outputs": [],
   "source": [
    "# ANS 13"
   ]
  },
  {
   "cell_type": "code",
   "execution_count": 15,
   "id": "2154f8d7",
   "metadata": {},
   "outputs": [],
   "source": [
    "# ANS 14"
   ]
  },
  {
   "cell_type": "code",
   "execution_count": 16,
   "id": "9c5835ee",
   "metadata": {},
   "outputs": [],
   "source": [
    "# ANS 15"
   ]
  },
  {
   "cell_type": "code",
   "execution_count": 17,
   "id": "b98a1ccc",
   "metadata": {},
   "outputs": [],
   "source": [
    "# ANS 16"
   ]
  },
  {
   "cell_type": "code",
   "execution_count": 18,
   "id": "3e505d41",
   "metadata": {},
   "outputs": [],
   "source": [
    "# ANS 17"
   ]
  },
  {
   "cell_type": "code",
   "execution_count": 19,
   "id": "0acf10e3",
   "metadata": {},
   "outputs": [],
   "source": [
    "# ANS 18"
   ]
  },
  {
   "cell_type": "code",
   "execution_count": 20,
   "id": "b0fa4398",
   "metadata": {},
   "outputs": [],
   "source": [
    "# ANS 19"
   ]
  },
  {
   "cell_type": "code",
   "execution_count": 21,
   "id": "5b8c8e79",
   "metadata": {},
   "outputs": [],
   "source": [
    "# ANS 20"
   ]
  },
  {
   "cell_type": "code",
   "execution_count": 22,
   "id": "db4d8fc4",
   "metadata": {},
   "outputs": [],
   "source": [
    "# ANS 21"
   ]
  },
  {
   "cell_type": "code",
   "execution_count": 23,
   "id": "47085dad",
   "metadata": {},
   "outputs": [],
   "source": [
    "# ANS 22"
   ]
  },
  {
   "cell_type": "code",
   "execution_count": null,
   "id": "2ea7beef",
   "metadata": {},
   "outputs": [],
   "source": [
    "# ANS 23"
   ]
  }
 ],
 "metadata": {
  "kernelspec": {
   "display_name": "Python 3 (ipykernel)",
   "language": "python",
   "name": "python3"
  },
  "language_info": {
   "codemirror_mode": {
    "name": "ipython",
    "version": 3
   },
   "file_extension": ".py",
   "mimetype": "text/x-python",
   "name": "python",
   "nbconvert_exporter": "python",
   "pygments_lexer": "ipython3",
   "version": "3.9.13"
  }
 },
 "nbformat": 4,
 "nbformat_minor": 5
}
