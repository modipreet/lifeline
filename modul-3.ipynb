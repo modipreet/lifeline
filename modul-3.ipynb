{
 "cells": [
  {
   "cell_type": "code",
   "execution_count": null,
   "id": "b56e8055",
   "metadata": {},
   "outputs": [],
   "source": [
    "#ans-1\n",
    "#list is one of the data type in python. list is used to store mutiple items in a single variable.\n",
    "#it is be denoted by square bracket[].\n",
    "#list can be reevered by using the mathod called \".reverse()\"\n"
   ]
  },
  {
   "cell_type": "code",
   "execution_count": 3,
   "id": "19a1af69",
   "metadata": {},
   "outputs": [
    {
     "data": {
      "text/plain": [
       "25"
      ]
     },
     "execution_count": 3,
     "metadata": {},
     "output_type": "execute_result"
    }
   ],
   "source": [
    "#ans-2\n",
    "#last object from the list can be removed by using \".pop()\" method.\n",
    "list3=[2,33,222,14,25]\n",
    "list3[-1]"
   ]
  },
  {
   "cell_type": "code",
   "execution_count": 1,
   "id": "a58bf7e7",
   "metadata": {},
   "outputs": [
    {
     "data": {
      "text/plain": [
       "25"
      ]
     },
     "execution_count": 1,
     "metadata": {},
     "output_type": "execute_result"
    }
   ],
   "source": [
    "#ans-3\n",
    "#append() method adds an element as 1 element while extend method can only add iterable as individuals."
   ]
  },
  {
   "cell_type": "code",
   "execution_count": null,
   "id": "5272bb4f",
   "metadata": {},
   "outputs": [],
   "source": [
    "#ans-4\n"
   ]
  },
  {
   "cell_type": "code",
   "execution_count": 3,
   "id": "75a4a001",
   "metadata": {},
   "outputs": [
    {
     "name": "stdout",
     "output_type": "stream",
     "text": [
      "list are not same\n"
     ]
    }
   ],
   "source": [
    "#ans=5\n",
    "list1=[18,21,27,50]\n",
    "list2=[17,25,28,78]\n",
    "list1.sort()\n",
    "list2.sort()\n",
    "if list1==list2:\n",
    "    print('list are same')\n",
    "else:\n",
    "    print('list are not same')\n"
   ]
  },
  {
   "cell_type": "code",
   "execution_count": 15,
   "id": "45bc582f",
   "metadata": {},
   "outputs": [
    {
     "data": {
      "text/plain": [
       "1"
      ]
     },
     "execution_count": 15,
     "metadata": {},
     "output_type": "execute_result"
    }
   ],
   "source": [
    "#ans=6\n",
    "list2=['dsa', 'asw','afa','2889']\n",
    "len([ele for ele in list2 if (len(ele) >= 2 and ele[0]==ele[-1])])"
   ]
  },
  {
   "cell_type": "code",
   "execution_count": 17,
   "id": "3a0f4507",
   "metadata": {},
   "outputs": [
    {
     "name": "stdout",
     "output_type": "stream",
     "text": [
      "[{65, 66, 56, 89, 12, 45, 78}]\n"
     ]
    }
   ],
   "source": [
    "#ans-7\n",
    "list1=[{78,89,45,66,12,89,56,65}]\n",
    "print(list1)"
   ]
  },
  {
   "cell_type": "code",
   "execution_count": 34,
   "id": "266db7c6",
   "metadata": {},
   "outputs": [
    {
     "name": "stdout",
     "output_type": "stream",
     "text": [
      "list is empty\n"
     ]
    }
   ],
   "source": [
    "#ans-8\n",
    "list2= [] \n",
    "if (len(list2)== 0):\n",
    "    print('list is empty')\n",
    "else:\n",
    "    print('list has element')"
   ]
  },
  {
   "cell_type": "code",
   "execution_count": null,
   "id": "a24d65ea",
   "metadata": {},
   "outputs": [],
   "source": [
    "#ans-9"
   ]
  },
  {
   "cell_type": "code",
   "execution_count": 39,
   "id": "1ffd32f9",
   "metadata": {},
   "outputs": [
    {
     "name": "stdout",
     "output_type": "stream",
     "text": [
      "[1, 4, 9, 16, 676, 729, 784, 841, 900]\n"
     ]
    }
   ],
   "source": [
    "#ans-10\n",
    "list4 = []\n",
    "for i in range (1,31):\n",
    "    if (i<5 or (i>25 and i<=30)):\n",
    "        list4.append(i*i)\n",
    "print(list4)"
   ]
  },
  {
   "cell_type": "code",
   "execution_count": 41,
   "id": "fdcfed93",
   "metadata": {},
   "outputs": [
    {
     "name": "stdout",
     "output_type": "stream",
     "text": [
      "{12, 78, 23, 56, 89, 63}\n"
     ]
    }
   ],
   "source": [
    "#ans-11\n",
    "list6 = [56,89,56,78,12,63,89,23]\n",
    "list5 = set(list6)\n",
    "print(list5)"
   ]
  },
  {
   "cell_type": "code",
   "execution_count": 42,
   "id": "6d98cfa9",
   "metadata": {},
   "outputs": [
    {
     "name": "stdout",
     "output_type": "stream",
     "text": [
      "cdef\n"
     ]
    }
   ],
   "source": [
    "#ans-12\n",
    "h = ['c','d','e','f']\n",
    "st=''\n",
    "for i in h:\n",
    "    st+=i\n",
    "print(st)"
   ]
  },
  {
   "cell_type": "code",
   "execution_count": 51,
   "id": "505cbcd3",
   "metadata": {},
   "outputs": [
    {
     "data": {
      "text/plain": [
       "1"
      ]
     },
     "execution_count": 51,
     "metadata": {},
     "output_type": "execute_result"
    }
   ],
   "source": [
    "#ans-13\n",
    "random\n",
    "list4 = [2,6,'yaya','yoyo',-7]\n",
    "random.choice(list7)"
   ]
  },
  {
   "cell_type": "code",
   "execution_count": 52,
   "id": "a23875ef",
   "metadata": {},
   "outputs": [
    {
     "name": "stdout",
     "output_type": "stream",
     "text": [
      "12\n"
     ]
    }
   ],
   "source": [
    "#ans-14\n",
    "list7 = [89,45,78,56,12,6,34,99]\n",
    "list7.sort()\n",
    "print(list7[1])"
   ]
  },
  {
   "cell_type": "code",
   "execution_count": 53,
   "id": "9bcd2558",
   "metadata": {},
   "outputs": [
    {
     "name": "stdout",
     "output_type": "stream",
     "text": [
      "{34, 3, 78, 15, 52, 85, 56}\n"
     ]
    }
   ],
   "source": [
    "#ans-15\n",
    "list5 = [15,56,3,78,15,85,34,3,52]\n",
    "d = set(list5)\n",
    "print(d)"
   ]
  },
  {
   "cell_type": "code",
   "execution_count": 55,
   "id": "cb1b8cac",
   "metadata": {},
   "outputs": [
    {
     "name": "stdout",
     "output_type": "stream",
     "text": [
      "list contains sublist\n"
     ]
    }
   ],
   "source": [
    "#ans-16\n",
    "list15 = [[15,45,33],[3,2,1],[55,56,89]]\n",
    "sblist=[3,2,1]\n",
    "if sblist in list15:\n",
    "    print('list contains sublist')\n",
    "else:\n",
    "    print('no sublist found')"
   ]
  },
  {
   "cell_type": "code",
   "execution_count": 58,
   "id": "47ab42a5",
   "metadata": {},
   "outputs": [
    {
     "name": "stdout",
     "output_type": "stream",
     "text": [
      "20\n",
      "21\n",
      "22\n",
      "23\n",
      "24\n"
     ]
    }
   ],
   "source": [
    "#ans-17\n",
    "a,b,c,d,e =['20','21','22','23','24']\n",
    "print(a)\n",
    "print(b)\n",
    "print(c)\n",
    "print(d)\n",
    "print(e)"
   ]
  },
  {
   "cell_type": "code",
   "execution_count": null,
   "id": "6649cd3e",
   "metadata": {},
   "outputs": [],
   "source": [
    "#ans-18\n"
   ]
  },
  {
   "cell_type": "code",
   "execution_count": null,
   "id": "59b91ceb",
   "metadata": {},
   "outputs": [],
   "source": [
    "#ans-19\n",
    "tup12 = {258,1.23,FALSE,'DATA',(1,8,8),[4,7,6],{1,4,6},{a:12,b:89}}"
   ]
  },
  {
   "cell_type": "code",
   "execution_count": 59,
   "id": "06c9e895",
   "metadata": {},
   "outputs": [
    {
     "name": "stdout",
     "output_type": "stream",
     "text": [
      "('56', '23', '47', '89', '12', '78')\n"
     ]
    }
   ],
   "source": [
    "#ans-20\n",
    "tup3 = '56','23','47','89','12','78'\n",
    "print(tup3)"
   ]
  },
  {
   "cell_type": "code",
   "execution_count": 60,
   "id": "d6eca82a",
   "metadata": {},
   "outputs": [
    {
     "name": "stdout",
     "output_type": "stream",
     "text": [
      "yum\n",
      "yumhe\n",
      "yumhehum\n"
     ]
    }
   ],
   "source": [
    "#ans-21\n",
    "tup9=('yum','he','hum')\n",
    "sb7=''\n",
    "for i in tup9:\n",
    "    sb7+=i\n",
    "    print(sb7)"
   ]
  },
  {
   "cell_type": "code",
   "execution_count": 70,
   "id": "01305223",
   "metadata": {},
   "outputs": [
    {
     "name": "stdout",
     "output_type": "stream",
     "text": [
      "very dul time\n"
     ]
    }
   ],
   "source": [
    "#ans-22\n",
    "tup89 = ()\n",
    "if len(tup89) !=0:\n",
    "    print('element exit in tuple')\n",
    "else:\n",
    "    print('very dul time')"
   ]
  },
  {
   "cell_type": "code",
   "execution_count": 75,
   "id": "824389bf",
   "metadata": {},
   "outputs": [
    {
     "name": "stdout",
     "output_type": "stream",
     "text": [
      "5\n"
     ]
    }
   ],
   "source": [
    "#ans-23\n",
    "tup=(1,5,8,9,{'t':\"rge\"})\n",
    "print(len(tup))"
   ]
  },
  {
   "cell_type": "code",
   "execution_count": 79,
   "id": "c08c2354",
   "metadata": {},
   "outputs": [
    {
     "name": "stdout",
     "output_type": "stream",
     "text": [
      "(1, 5, 8, [1, 2], 9, {'t': 'range'})\n"
     ]
    }
   ],
   "source": [
    "#ans-24\n",
    "list1 = (1,5,8,[1,2],9,{'t':'range'})\n",
    "g=tuple(list1)\n",
    "print(g)"
   ]
  },
  {
   "cell_type": "code",
   "execution_count": 80,
   "id": "811d707e",
   "metadata": {},
   "outputs": [
    {
     "name": "stdout",
     "output_type": "stream",
     "text": [
      "('int', 5, 6, {'a': 56}, [1, 7], (4, 6))\n"
     ]
    }
   ],
   "source": [
    "#ans-25\n",
    "tup2 = ('int',5,6,{'a':56},[1,7],(4,6))\n",
    "tup3=tup2[::1]\n",
    "print(tup3)"
   ]
  },
  {
   "cell_type": "code",
   "execution_count": 2,
   "id": "42986db1",
   "metadata": {},
   "outputs": [
    {
     "name": "stdout",
     "output_type": "stream",
     "text": [
      "[12, 23, 33, 44, 55, 'too']\n"
     ]
    }
   ],
   "source": [
    "#ans-26\n",
    "tup1 = (12,23,33,44,55,60)\n",
    "a = list(tup1)\n",
    "a.pop(-1)\n",
    "a.append('too')\n",
    "print(a)"
   ]
  },
  {
   "cell_type": "code",
   "execution_count": 4,
   "id": "5d14ab21",
   "metadata": {},
   "outputs": [
    {
     "name": "stdout",
     "output_type": "stream",
     "text": [
      "8\n",
      "9\n",
      "6\n"
     ]
    }
   ],
   "source": [
    "#ans-27\n",
    "tupn = (1,8,8,9,9,6,6,6,6,7)\n",
    "tupw = []\n",
    "for i in tupn:\n",
    "    if tupn.count(i)!=1:\n",
    "        if(i not in tupw):\n",
    "            tupw.append(i)\n",
    "            print(i)"
   ]
  },
  {
   "cell_type": "code",
   "execution_count": 6,
   "id": "bdadf0d9",
   "metadata": {},
   "outputs": [
    {
     "name": "stdout",
     "output_type": "stream",
     "text": [
      "[(1, 2, 3), '8', '90', '5']\n"
     ]
    }
   ],
   "source": [
    "#ans-28\n",
    "list8 = [(1,2,3),(),'8','90','5']\n",
    "p = list8.remove(())\n",
    "print(list8)"
   ]
  },
  {
   "cell_type": "code",
   "execution_count": 20,
   "id": "56698b7f",
   "metadata": {},
   "outputs": [
    {
     "name": "stdout",
     "output_type": "stream",
     "text": [
      "(999, 45)\n",
      "('dfs', 25)\n",
      "(56, 'str', (456, 89))\n"
     ]
    }
   ],
   "source": [
    "#ans-29\n",
    "list = [(999,45),('dfs',25),(56,'str',(456,89))]\n",
    "for i in list:\n",
    "    print(i)"
   ]
  },
  {
   "cell_type": "code",
   "execution_count": 21,
   "id": "1a721c28",
   "metadata": {},
   "outputs": [
    {
     "data": {
      "text/plain": [
       "{897: 45, 'ghj': 2, 89: 'str'}"
      ]
     },
     "execution_count": 21,
     "metadata": {},
     "output_type": "execute_result"
    }
   ],
   "source": [
    "#ans-30\n",
    "tup1 = ([897,45],['ghj',2],[89,'str'])\n",
    "dict(tup1)"
   ]
  },
  {
   "cell_type": "code",
   "execution_count": 23,
   "id": "108b68b4",
   "metadata": {},
   "outputs": [
    {
     "name": "stdout",
     "output_type": "stream",
     "text": [
      "{5: 'cds', 'afd': 56, 'kjh': 'fds'}\n"
     ]
    }
   ],
   "source": [
    "#ans-31\n",
    "tup2 = ((5,'cds'),('afd',56),('kjh','fds'))\n",
    "print(dict(tup2))"
   ]
  },
  {
   "cell_type": "code",
   "execution_count": null,
   "id": "38b7d0b9",
   "metadata": {},
   "outputs": [],
   "source": [
    "#ans-32"
   ]
  },
  {
   "cell_type": "code",
   "execution_count": 2,
   "id": "fa67f5a8",
   "metadata": {},
   "outputs": [
    {
     "name": "stdout",
     "output_type": "stream",
     "text": [
      "{1: 1, 2: 2, 3: 3, 4: 4}\n"
     ]
    }
   ],
   "source": [
    "#ans-33\n",
    "dict10 = {1:1,2:2}\n",
    "dict9 = {3:3,4:4}\n",
    "dict10.update(dict9)\n",
    "print(dict10)"
   ]
  },
  {
   "cell_type": "code",
   "execution_count": 4,
   "id": "42e63ef3",
   "metadata": {},
   "outputs": [
    {
     "name": "stdout",
     "output_type": "stream",
     "text": [
      "6\n",
      "key is in dict\n"
     ]
    }
   ],
   "source": [
    "#ans-34\n",
    "dict5 = {'2': 'kiran','5':'boni','8':'preet','6':'sachin'}\n",
    "key = input()\n",
    "if key in dict5:\n",
    "    print('key is in dict')\n",
    "else:\n",
    "    print('can not found key')"
   ]
  },
  {
   "cell_type": "code",
   "execution_count": null,
   "id": "2f50de7f",
   "metadata": {},
   "outputs": [],
   "source": [
    "#ans-35\n"
   ]
  }
 ],
 "metadata": {
  "kernelspec": {
   "display_name": "Python 3 (ipykernel)",
   "language": "python",
   "name": "python3"
  },
  "language_info": {
   "codemirror_mode": {
    "name": "ipython",
    "version": 3
   },
   "file_extension": ".py",
   "mimetype": "text/x-python",
   "name": "python",
   "nbconvert_exporter": "python",
   "pygments_lexer": "ipython3",
   "version": "3.9.13"
  }
 },
 "nbformat": 4,
 "nbformat_minor": 5
}
