{
 "cells": [
  {
   "cell_type": "code",
   "execution_count": null,
   "id": "b56e8055",
   "metadata": {},
   "outputs": [],
   "source": [
    "#ans-1\n",
    "#list is one of the data type in python. list is used to store mutiple items in a single variable.\n",
    "#it is be denoted by square bracket[].\n",
    "#list can be reevered by using the mathod called \".reverse()\"\n"
   ]
  },
  {
   "cell_type": "code",
   "execution_count": null,
   "id": "19a1af69",
   "metadata": {},
   "outputs": [],
   "source": [
    "#ans-2\n",
    "#last object from the list can be removed by using \".pop()\" method.\n",
    "list3=[2,33,222,14,25]\n",
    "list3[-1]"
   ]
  },
  {
   "cell_type": "code",
   "execution_count": null,
   "id": "a58bf7e7",
   "metadata": {},
   "outputs": [],
   "source": [
    "#ans-3\n",
    "#append() method adds an element as 1 element while extend method can only add iterable as individuals."
   ]
  },
  {
   "cell_type": "code",
   "execution_count": null,
   "id": "5272bb4f",
   "metadata": {},
   "outputs": [],
   "source": [
    "#ans-4\n"
   ]
  },
  {
   "cell_type": "code",
   "execution_count": null,
   "id": "75a4a001",
   "metadata": {},
   "outputs": [],
   "source": [
    "#ans=5\n",
    "list1=[18,21,27,50]\n",
    "list2=[17,25,28,78]\n",
    "list1.sort()\n",
    "list2.sort()\n",
    "if list1==list2:\n",
    "    print('list are same')\n",
    "else:\n",
    "    print('list are not same')\n"
   ]
  },
  {
   "cell_type": "code",
   "execution_count": null,
   "id": "45bc582f",
   "metadata": {},
   "outputs": [],
   "source": [
    "#ans=6\n",
    "list2=['dsa', 'asw','afa','2889']\n",
    "len([ele for ele in list2 if (len(ele) >= 2 and ele[0]==ele[-1])])"
   ]
  },
  {
   "cell_type": "code",
   "execution_count": null,
   "id": "3a0f4507",
   "metadata": {},
   "outputs": [],
   "source": [
    "#ans-7\n",
    "list1=[{78,89,45,66,12,89,56,65}]\n",
    "print(list1)"
   ]
  },
  {
   "cell_type": "code",
   "execution_count": null,
   "id": "266db7c6",
   "metadata": {},
   "outputs": [],
   "source": [
    "#ans-8\n",
    "list2= [] \n",
    "if (len(list2)== 0):\n",
    "    print('list is empty')\n",
    "else:\n",
    "    print('list has element')"
   ]
  },
  {
   "cell_type": "code",
   "execution_count": null,
   "id": "a24d65ea",
   "metadata": {},
   "outputs": [],
   "source": [
    "#ans-9"
   ]
  },
  {
   "cell_type": "code",
   "execution_count": null,
   "id": "1ffd32f9",
   "metadata": {},
   "outputs": [],
   "source": [
    "#ans-10\n",
    "list4 = []\n",
    "for i in range (1,31):\n",
    "    if (i<5 or (i>25 and i<=30)):\n",
    "        list4.append(i*i)\n",
    "print(list4)"
   ]
  },
  {
   "cell_type": "code",
   "execution_count": null,
   "id": "fdcfed93",
   "metadata": {},
   "outputs": [],
   "source": [
    "#ans-11\n",
    "list6 = [56,89,56,78,12,63,89,23]\n",
    "list5 = set(list6)\n",
    "print(list5)"
   ]
  },
  {
   "cell_type": "code",
   "execution_count": null,
   "id": "6d98cfa9",
   "metadata": {},
   "outputs": [],
   "source": [
    "#ans-12\n",
    "h = ['c','d','e','f']\n",
    "st=''\n",
    "for i in h:\n",
    "    st+=i\n",
    "print(st)"
   ]
  },
  {
   "cell_type": "code",
   "execution_count": null,
   "id": "505cbcd3",
   "metadata": {},
   "outputs": [],
   "source": [
    "#ans-13\n",
    "random\n",
    "list4 = [2,6,'yaya','yoyo',-7]\n",
    "random.choice(list7)"
   ]
  },
  {
   "cell_type": "code",
   "execution_count": null,
   "id": "a23875ef",
   "metadata": {},
   "outputs": [],
   "source": [
    "#ans-14\n",
    "list7 = [89,45,78,56,12,6,34,99]\n",
    "list7.sort()\n",
    "print(list7[1])"
   ]
  },
  {
   "cell_type": "code",
   "execution_count": null,
   "id": "9bcd2558",
   "metadata": {},
   "outputs": [],
   "source": [
    "#ans-15\n",
    "list5 = [15,56,3,78,15,85,34,3,52]\n",
    "d = set(list5)\n",
    "print(d)"
   ]
  },
  {
   "cell_type": "code",
   "execution_count": null,
   "id": "cb1b8cac",
   "metadata": {},
   "outputs": [],
   "source": [
    "#ans-16\n",
    "list15 = [[15,45,33],[3,2,1],[55,56,89]]\n",
    "sblist=[3,2,1]\n",
    "if sblist in list15:\n",
    "    print('list contains sublist')\n",
    "else:\n",
    "    print('no sublist found')"
   ]
  },
  {
   "cell_type": "code",
   "execution_count": null,
   "id": "47ab42a5",
   "metadata": {},
   "outputs": [],
   "source": [
    "#ans-17\n",
    "a,b,c,d,e =['20','21','22','23','24']\n",
    "print(a)\n",
    "print(b)\n",
    "print(c)\n",
    "print(d)\n",
    "print(e)"
   ]
  },
  {
   "cell_type": "code",
   "execution_count": null,
   "id": "6649cd3e",
   "metadata": {},
   "outputs": [],
   "source": [
    "#ans-18\n"
   ]
  },
  {
   "cell_type": "code",
   "execution_count": null,
   "id": "59b91ceb",
   "metadata": {},
   "outputs": [],
   "source": [
    "#ans-19\n",
    "tup12 = {258,1.23,FALSE,'DATA',(1,8,8),[4,7,6],{1,4,6},{a:12,b:89}}"
   ]
  },
  {
   "cell_type": "code",
   "execution_count": null,
   "id": "06c9e895",
   "metadata": {},
   "outputs": [],
   "source": [
    "#ans-20\n",
    "tup3 = '56','23','47','89','12','78'\n",
    "print(tup3)"
   ]
  },
  {
   "cell_type": "code",
   "execution_count": null,
   "id": "d6eca82a",
   "metadata": {},
   "outputs": [],
   "source": [
    "#ans-21\n",
    "tup9=('yum','he','hum')\n",
    "sb7=''\n",
    "for i in tup9:\n",
    "    sb7+=i\n",
    "    print(sb7)"
   ]
  },
  {
   "cell_type": "code",
   "execution_count": null,
   "id": "01305223",
   "metadata": {},
   "outputs": [],
   "source": [
    "#ans-22\n",
    "tup89 = ()\n",
    "if len(tup89) !=0:\n",
    "    print('element exit in tuple')\n",
    "else:\n",
    "    print('very dul time')"
   ]
  },
  {
   "cell_type": "code",
   "execution_count": null,
   "id": "824389bf",
   "metadata": {},
   "outputs": [],
   "source": [
    "#ans-23\n",
    "tup=(1,5,8,9,{'t':\"rge\"})\n",
    "print(len(tup))"
   ]
  },
  {
   "cell_type": "code",
   "execution_count": null,
   "id": "c08c2354",
   "metadata": {},
   "outputs": [],
   "source": [
    "#ans-24\n",
    "list1 = (1,5,8,[1,2],9,{'t':'range'})\n",
    "g=tuple(list1)\n",
    "print(g)"
   ]
  },
  {
   "cell_type": "code",
   "execution_count": null,
   "id": "811d707e",
   "metadata": {},
   "outputs": [],
   "source": [
    "#ans-25\n",
    "tup2 = ('int',5,6,{'a':56},[1,7],(4,6))\n",
    "tup3=tup2[::1]\n",
    "print(tup3)"
   ]
  },
  {
   "cell_type": "code",
   "execution_count": null,
   "id": "42986db1",
   "metadata": {},
   "outputs": [],
   "source": [
    "#ans-26\n",
    "tup1 = (12,23,33,44,55,60)\n",
    "a = list(tup1)\n",
    "a.pop(-1)\n",
    "a.append('too')\n",
    "print(a)"
   ]
  },
  {
   "cell_type": "code",
   "execution_count": null,
   "id": "5d14ab21",
   "metadata": {},
   "outputs": [],
   "source": [
    "#ans-27\n",
    "tupn = (1,8,8,9,9,6,6,6,6,7)\n",
    "tupw = []\n",
    "for i in tupn:\n",
    "    if tupn.count(i)!=1:\n",
    "        if(i not in tupw):\n",
    "            tupw.append(i)\n",
    "            print(i)"
   ]
  },
  {
   "cell_type": "code",
   "execution_count": null,
   "id": "bdadf0d9",
   "metadata": {},
   "outputs": [],
   "source": [
    "#ans-28\n",
    "list8 = [(1,2,3),(),'8','90','5']\n",
    "p = list8.remove(())\n",
    "print(list8)"
   ]
  },
  {
   "cell_type": "code",
   "execution_count": null,
   "id": "56698b7f",
   "metadata": {},
   "outputs": [],
   "source": [
    "#ans-29\n",
    "list = [(999,45),('dfs',25),(56,'str',(456,89))]\n",
    "for i in list:\n",
    "    print(i)"
   ]
  },
  {
   "cell_type": "code",
   "execution_count": null,
   "id": "1a721c28",
   "metadata": {},
   "outputs": [],
   "source": [
    "#ans-30\n",
    "tup1 = ([897,45],['ghj',2],[89,'str'])\n",
    "dict(tup1)"
   ]
  },
  {
   "cell_type": "code",
   "execution_count": null,
   "id": "108b68b4",
   "metadata": {},
   "outputs": [],
   "source": [
    "#ans-31\n",
    "tup2 = ((5,'cds'),('afd',56),('kjh','fds'))\n",
    "print(dict(tup2))"
   ]
  },
  {
   "cell_type": "code",
   "execution_count": null,
   "id": "38b7d0b9",
   "metadata": {},
   "outputs": [],
   "source": [
    "#ans-32"
   ]
  },
  {
   "cell_type": "code",
   "execution_count": null,
   "id": "fa67f5a8",
   "metadata": {},
   "outputs": [],
   "source": [
    "#ans-33\n",
    "dict10 = {1:1,2:2}\n",
    "dict9 = {3:3,4:4}\n",
    "dict10.update(dict9)\n",
    "print(dict10)"
   ]
  },
  {
   "cell_type": "code",
   "execution_count": null,
   "id": "42e63ef3",
   "metadata": {},
   "outputs": [],
   "source": [
    "#ans-34\n",
    "dict5 = {'2': 'kiran','5':'boni','8':'preet','6':'sachin'}\n",
    "key = input()\n",
    "if key in dict5:\n",
    "    print('key is in dict')\n",
    "else:\n",
    "    print('can not found key')"
   ]
  },
  {
   "cell_type": "code",
   "execution_count": 1,
   "id": "2f50de7f",
   "metadata": {},
   "outputs": [
    {
     "name": "stdout",
     "output_type": "stream",
     "text": [
      "num:value\n",
      "\n",
      "a : 12\n",
      "b : 45\n",
      "c : 78\n",
      "96 : pwd\n"
     ]
    }
   ],
   "source": [
    "#ans-35\n",
    "var1={'a': 12,'b': 45,\"c\": 78,96:'pwd'}\n",
    "print(\"num:value\\n\")\n",
    "for i,j in var1.items():\n",
    "    print(i,':',j)\n"
   ]
  },
  {
   "cell_type": "code",
   "execution_count": 7,
   "id": "6c023b14",
   "metadata": {},
   "outputs": [
    {
     "name": "stdout",
     "output_type": "stream",
     "text": [
      "'preet'\n",
      "not found\n"
     ]
    }
   ],
   "source": [
    "#ans-36\n",
    "num = input()\n",
    "a1 = {'preet': 56,'boni': 89,'sachin': 63}\n",
    "if num in a1.keys():\n",
    "    print('dictionary')\n",
    "else:\n",
    "    print('not found')\n",
    "    \n"
   ]
  },
  {
   "cell_type": "code",
   "execution_count": null,
   "id": "57f0a93a",
   "metadata": {},
   "outputs": [],
   "source": [
    "#ans=37\n"
   ]
  },
  {
   "cell_type": "code",
   "execution_count": 9,
   "id": "2480e90f",
   "metadata": {},
   "outputs": [
    {
     "name": "stdout",
     "output_type": "stream",
     "text": [
      "multiple key exitsts\n"
     ]
    }
   ],
   "source": [
    "#ans=38\n",
    "d9={'vaki':56,'sfss':25,2:'preet','a': 74,23:'pwwd'}\n",
    "if(len(d9)>1):\n",
    "    print('multiple key exitsts')\n",
    "else:\n",
    "    print('zero or one key exitsts')"
   ]
  },
  {
   "cell_type": "code",
   "execution_count": 10,
   "id": "ebf2a296",
   "metadata": {},
   "outputs": [
    {
     "name": "stdout",
     "output_type": "stream",
     "text": [
      "{'a': 52, 23: 'sds', 'b': 21, ('sd',): 25}\n"
     ]
    }
   ],
   "source": [
    "#ans=39\n",
    "s1={'a':52,23:'sds'}\n",
    "s2={'b':21,('sd',):25}\n",
    "s1.update(s2)\n",
    "print(s1)"
   ]
  },
  {
   "cell_type": "code",
   "execution_count": 11,
   "id": "b8f1399d",
   "metadata": {},
   "outputs": [
    {
     "ename": "NameError",
     "evalue": "name 'dic' is not defined",
     "output_type": "error",
     "traceback": [
      "\u001b[1;31m---------------------------------------------------------------------------\u001b[0m",
      "\u001b[1;31mNameError\u001b[0m                                 Traceback (most recent call last)",
      "\u001b[1;32m~\\AppData\\Local\\Temp\\ipykernel_8552\\3124046378.py\u001b[0m in \u001b[0;36m<module>\u001b[1;34m\u001b[0m\n\u001b[0;32m      3\u001b[0m \u001b[0ml2\u001b[0m\u001b[1;33m=\u001b[0m\u001b[1;33m[\u001b[0m\u001b[1;36m2\u001b[0m\u001b[1;33m,\u001b[0m\u001b[1;36m5\u001b[0m\u001b[1;33m,\u001b[0m\u001b[1;36m8\u001b[0m\u001b[1;33m]\u001b[0m\u001b[1;33m\u001b[0m\u001b[1;33m\u001b[0m\u001b[0m\n\u001b[0;32m      4\u001b[0m \u001b[0ml3\u001b[0m \u001b[1;33m=\u001b[0m \u001b[0mzip\u001b[0m\u001b[1;33m(\u001b[0m\u001b[0ml1\u001b[0m\u001b[1;33m,\u001b[0m\u001b[0ml2\u001b[0m\u001b[1;33m)\u001b[0m\u001b[1;33m\u001b[0m\u001b[1;33m\u001b[0m\u001b[0m\n\u001b[1;32m----> 5\u001b[1;33m \u001b[0mprint\u001b[0m\u001b[1;33m(\u001b[0m\u001b[0mdic\u001b[0m\u001b[1;33m(\u001b[0m\u001b[0ml3\u001b[0m\u001b[1;33m)\u001b[0m\u001b[1;33m)\u001b[0m\u001b[1;33m\u001b[0m\u001b[1;33m\u001b[0m\u001b[0m\n\u001b[0m",
      "\u001b[1;31mNameError\u001b[0m: name 'dic' is not defined"
     ]
    }
   ],
   "source": [
    "#ans=40\n",
    "l1=[1,4,7]\n",
    "l2=[2,5,8]\n",
    "l3 = zip(l1,l2)\n",
    "print(dic(l3))"
   ]
  },
  {
   "cell_type": "code",
   "execution_count": null,
   "id": "38295024",
   "metadata": {},
   "outputs": [],
   "source": []
  }
 ],
 "metadata": {
  "kernelspec": {
   "display_name": "Python 3 (ipykernel)",
   "language": "python",
   "name": "python3"
  },
  "language_info": {
   "codemirror_mode": {
    "name": "ipython",
    "version": 3
   },
   "file_extension": ".py",
   "mimetype": "text/x-python",
   "name": "python",
   "nbconvert_exporter": "python",
   "pygments_lexer": "ipython3",
   "version": "3.9.13"
  }
 },
 "nbformat": 4,
 "nbformat_minor": 5
}
