{
 "cells": [
  {
   "cell_type": "code",
   "execution_count": null,
   "id": "2f4b4f0f",
   "metadata": {},
   "outputs": [],
   "source": [
    "1) Why Django should be used for web-development? Explain how you can create a project in Django?\n",
    "\n",
    "Python is a powerful high-level programming language that can be possibly used in a lot of fields. \n",
    "These fields can range from data science to automation and web development. \n",
    "It also has amazing libraries and frameworks that include pandas, NumPy, PyTorch, bottle,flask, etc.\n",
    "One such framework in Python that is used for web development majorly is Django. \n",
    "\n",
    "Here are some reasons why Django is commonly used for web development:\n",
    "        \n",
    "pip install django\n",
    "django-admin startproject projectname\n",
    "\n",
    "cd projectname\n",
    "python manage.py startapp appname\n",
    "\n",
    "python manage.py runserver"
   ]
  },
  {
   "cell_type": "code",
   "execution_count": null,
   "id": "acb4948c",
   "metadata": {},
   "outputs": [],
   "source": [
    "2) How to check installed version of django?\n",
    "\n",
    "python -m django --version"
   ]
  },
  {
   "cell_type": "code",
   "execution_count": null,
   "id": "3954c352",
   "metadata": {},
   "outputs": [],
   "source": [
    "3) Explain what does django-admin.py make messages command is used for?\n",
    "\n",
    "The django-admin.py make messages command is used in Django for internationalization and localization purposes.\n",
    "makemessages. Runs over the entire source tree of the current directory and pulls out all strings marked for translation. \n",
    "It creates (or updates) a message file in the conf/locale (in the Django tree) or locale (for project and applic"
   ]
  },
  {
   "cell_type": "code",
   "execution_count": null,
   "id": "917ffa0b",
   "metadata": {},
   "outputs": [],
   "source": [
    "4) What is Django URLs?make program to create django urls\n",
    "\n",
    "Django introduced the path method and re_path() method in version 2.0, allowing for the inclusion of an element as a URL pattern\n",
    "within a tuple that can be used for URL patterns.\n",
    "\n",
    "path(route, view, kwargs=None, name=None)"
   ]
  },
  {
   "cell_type": "code",
   "execution_count": null,
   "id": "040ab320",
   "metadata": {},
   "outputs": [],
   "source": [
    "5) What is a QuerySet?Write program to create a new Post object in database:\n",
    "    \n",
    "A QuerySet is a collection of data from a database. A QuerySet is built up as a list of objects.\n",
    "QuerySets makes it easier to get the data you actually need, by allowing you to filter and order the data at an early stage.\n",
    "\n",
    "Here's an example program using Django to create a new Post object and save it to the database:\n",
    "\n",
    "\n",
    "from django.db import models\n",
    "\n",
    "class Post(models.Model):\n",
    "    title = models.CharField(max_length=100)\n",
    "    content = models.TextField()\n",
    "\n",
    "# Create a new Post object and save it to the database\n",
    "def create_post(title, content):\n",
    "    post = Post(title=title, content=content)\n",
    "    post.save()\n",
    "\n",
    "# Example usage\n",
    "create_post(\"My First Post\", \"This is the content of my first post.\")"
   ]
  },
  {
   "cell_type": "code",
   "execution_count": null,
   "id": "90a5b195",
   "metadata": {},
   "outputs": [],
   "source": [
    "6) Mention what command line can be used to load data into Django?\n",
    "\n",
    "Django-admin.py loaddata\n",
    "\n",
    "To load data into Django you have to use the command line Django-admin.py loaddata. \n",
    "The command line will searches the data and loads the contents of the named fixtures into the database."
   ]
  },
  {
   "cell_type": "code",
   "execution_count": null,
   "id": "cde6958c",
   "metadata": {},
   "outputs": [],
   "source": [
    "7) Explain what does django-admin.py make messages command is used for?\n",
    "\n",
    "makemessages. Runs over the entire source tree of the current directory and pulls out all strings marked for translation. \n",
    "It creates (or updates) a message file in the conf/locale (in the Django tree) or locale (for project and application) directory.\n",
    "\n",
    "\n",
    "from django.utils.translation import gettext as _\n",
    "\n",
    "message = _(\"Hello, world!\")\n",
    "\n",
    "Run the make messages command:\n",
    "django-admin.py makemessages -l <language_code>"
   ]
  }
 ],
 "metadata": {
  "kernelspec": {
   "display_name": "Python 3 (ipykernel)",
   "language": "python",
   "name": "python3"
  },
  "language_info": {
   "codemirror_mode": {
    "name": "ipython",
    "version": 3
   },
   "file_extension": ".py",
   "mimetype": "text/x-python",
   "name": "python",
   "nbconvert_exporter": "python",
   "pygments_lexer": "ipython3",
   "version": "3.11.4"
  }
 },
 "nbformat": 4,
 "nbformat_minor": 5
}
