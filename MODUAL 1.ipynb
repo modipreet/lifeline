{
 "cells": [
  {
   "cell_type": "code",
   "execution_count": null,
   "id": "6830fd65",
   "metadata": {},
   "outputs": [],
   "source": [
    "# ANS 1\n",
    "IS IS THE COLLECTION OF COMPUTER PROGRAMS AND RELATED DOCUMENT THAT ARE INTENDED TO PROVIDE DESTDED FEATURES\n",
    "FUNCTIONLITTES AND RETTER PERFORMANCE."
   ]
  },
  {
   "cell_type": "code",
   "execution_count": null,
   "id": "289fd1c1",
   "metadata": {},
   "outputs": [],
   "source": [
    "#ANS 2\n",
    "(1) WEB APPLICTION\n",
    "(2) MOBILE APPLICTION\n",
    "(3) DESTOP  APPLICTION"
   ]
  },
  {
   "cell_type": "code",
   "execution_count": null,
   "id": "74f70c5d",
   "metadata": {},
   "outputs": [],
   "source": [
    "# ANS 3\n",
    "PROGRAMING IS APROCESS OF CREATING A SET OF INSTRUCTION THAT TELL HOE TO PERFORM A TASK."
   ]
  },
  {
   "cell_type": "code",
   "execution_count": null,
   "id": "ad9a80b9",
   "metadata": {},
   "outputs": [],
   "source": [
    "# ANS 4\n",
    "PYTHON IS GENERAL PURPOSE , DYNAMICALLY TYPED HIGH LEVEL LANGUAGE DEVLOPERD BY GUIDO VAN ROSSUM IN THE YEAR OF\n",
    "1991 AT CWI IN NUETHERLAND."
   ]
  },
  {
   "cell_type": "code",
   "execution_count": null,
   "id": "bd850539",
   "metadata": {},
   "outputs": [],
   "source": []
  }
 ],
 "metadata": {
  "kernelspec": {
   "display_name": "Python 3 (ipykernel)",
   "language": "python",
   "name": "python3"
  },
  "language_info": {
   "codemirror_mode": {
    "name": "ipython",
    "version": 3
   },
   "file_extension": ".py",
   "mimetype": "text/x-python",
   "name": "python",
   "nbconvert_exporter": "python",
   "pygments_lexer": "ipython3",
   "version": "3.9.13"
  }
 },
 "nbformat": 4,
 "nbformat_minor": 5
}
